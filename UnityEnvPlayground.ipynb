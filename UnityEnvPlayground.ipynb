{
 "cells": [
  {
   "cell_type": "code",
   "execution_count": 1,
   "metadata": {},
   "outputs": [],
   "source": [
    "from mlagents_envs.environment import UnityEnvironment"
   ]
  },
  {
   "cell_type": "code",
   "execution_count": 2,
   "metadata": {},
   "outputs": [],
   "source": [
    "from pyvirtualdisplay import Display"
   ]
  },
  {
   "cell_type": "code",
   "execution_count": 3,
   "metadata": {},
   "outputs": [
    {
     "data": {
      "text/plain": [
       "<pyvirtualdisplay.display.Display at 0x7fa9629cf710>"
      ]
     },
     "execution_count": 3,
     "metadata": {},
     "output_type": "execute_result"
    }
   ],
   "source": [
    "display = Display(backend=\"xvnc\", size=(64,64), visible=0, rfbport=5908)\n",
    "display.start()"
   ]
  },
  {
   "cell_type": "code",
   "execution_count": 9,
   "metadata": {},
   "outputs": [
    {
     "data": {
      "text/plain": [
       "<pyvirtualdisplay.display.Display at 0x7f53748063d0>"
      ]
     },
     "execution_count": 9,
     "metadata": {},
     "output_type": "execute_result"
    }
   ],
   "source": [
    "display.stop()"
   ]
  },
  {
   "cell_type": "code",
   "execution_count": 4,
   "metadata": {},
   "outputs": [
    {
     "name": "stderr",
     "output_type": "stream",
     "text": [
      "WARNING: The communication API versions between Unity and python differ at the minor version level. Python API: 1.2.0, Unity API: 1.0.\n",
      "This means that some features may not work unless you upgrade the package with the lower version.Please find the versions that work best together from our release page.\n",
      "https://github.com/Unity-Technologies/ml-agents/releases\n"
     ]
    }
   ],
   "source": [
    "env = UnityEnvironment(file_name=\"RC.x86_64\", seed=1, timeout_wait=1000)"
   ]
  },
  {
   "cell_type": "code",
   "execution_count": 5,
   "metadata": {},
   "outputs": [],
   "source": [
    "env.reset()"
   ]
  },
  {
   "cell_type": "code",
   "execution_count": 6,
   "metadata": {},
   "outputs": [
    {
     "name": "stdout",
     "output_type": "stream",
     "text": [
      "Name of the behavior : My Behavior?team=0\n"
     ]
    }
   ],
   "source": [
    "#Picking the behavior Name\n",
    "behavior_name = list(env.behavior_specs)[0] \n",
    "print(f\"Name of the behavior : {behavior_name}\")\n",
    "spec = env.behavior_specs[behavior_name]"
   ]
  },
  {
   "cell_type": "code",
   "execution_count": 7,
   "metadata": {},
   "outputs": [
    {
     "name": "stdout",
     "output_type": "stream",
     "text": [
      "Number of observations :  2\n",
      "Is there a visual observation ? True\n"
     ]
    }
   ],
   "source": [
    "# Examine the number of observations per Agent\n",
    "print(\"Number of observations : \", len(spec.observation_shapes))\n",
    "\n",
    "# Is there a visual observation ?\n",
    "# Visual observation have 3 dimensions: Height, Width and number of channels\n",
    "vis_obs = any(len(shape) == 3 for shape in spec.observation_shapes)\n",
    "print(\"Is there a visual observation ?\", vis_obs)"
   ]
  },
  {
   "cell_type": "code",
   "execution_count": 8,
   "metadata": {},
   "outputs": [
    {
     "name": "stdout",
     "output_type": "stream",
     "text": [
      "The action is discrete\n",
      "There are 1 action(s)\n",
      "Action number 0 has 1 different options\n"
     ]
    }
   ],
   "source": [
    "# Is the Action continuous or multi-discrete ?\n",
    "if spec.is_action_continuous():\n",
    "  print(\"The action is continuous\")\n",
    "if spec.is_action_discrete():\n",
    "  print(\"The action is discrete\")\n",
    "\n",
    "# How many actions are possible ?\n",
    "print(f\"There are {spec.action_size} action(s)\")\n",
    "\n",
    "# For discrete actions only : How many different options does each action has ?\n",
    "if spec.is_action_discrete():\n",
    "  for action, branch_size in enumerate(spec.discrete_action_branches):\n",
    "    print(f\"Action number {action} has {branch_size} different options\")"
   ]
  },
  {
   "cell_type": "code",
   "execution_count": 9,
   "metadata": {},
   "outputs": [],
   "source": [
    "decision_steps, terminal_steps = env.get_steps(behavior_name)"
   ]
  },
  {
   "cell_type": "code",
   "execution_count": 10,
   "metadata": {},
   "outputs": [],
   "source": [
    "env.step()"
   ]
  },
  {
   "cell_type": "code",
   "execution_count": 11,
   "metadata": {},
   "outputs": [
    {
     "data": {
      "text/plain": [
       "[(64, 64, 3), (87,)]"
      ]
     },
     "execution_count": 11,
     "metadata": {},
     "output_type": "execute_result"
    }
   ],
   "source": [
    "spec.observation_shapes #first observation is the visual of the agent - 64 X 64 x 3 -> RGB image"
   ]
  },
  {
   "cell_type": "code",
   "execution_count": 12,
   "metadata": {},
   "outputs": [
    {
     "name": "stdout",
     "output_type": "stream",
     "text": [
      "Here is the first visual observation\n"
     ]
    },
    {
     "data": {
      "image/png": "[encoded data removed]",
      "text/plain": [
       "<Figure size 432x288 with 1 Axes>"
      ]
     },
     "metadata": {
      "needs_background": "light"
     },
     "output_type": "display_data"
    },
    {
     "name": "stdout",
     "output_type": "stream",
     "text": [
      "First vector observations :  [-9.8091431e+00  4.0000000e+00  1.0398216e+00  0.0000000e+00\n",
      "  2.1100000e+02  0.0000000e+00 -4.0401659e+00  1.0000000e+01\n",
      " -2.0324142e+01 -2.3502338e+01  1.3000000e+01  2.0658098e+01\n",
      "  7.5478516e+00  1.2000000e+01 -3.3518845e+01 -1.9489662e+01\n",
      "  1.4000000e+01  3.4777771e+01 -1.0046349e+01  1.0000000e+01\n",
      "  2.7131989e+01  1.1967681e+01  1.0000000e+01 -2.5083820e+01\n",
      "  1.1611433e+01  1.1000000e+01 -3.1390654e+01  0.0000000e+00\n",
      "  0.0000000e+00  0.0000000e+00  0.0000000e+00  0.0000000e+00\n",
      "  0.0000000e+00  1.6000000e+01  2.0000000e+01  1.6000000e+01\n",
      "  1.7000000e+01  2.7000000e+01  1.7000000e+01  1.6000000e+01\n",
      "  2.5000000e+01  1.7000000e+01  1.7000000e+01  2.8000000e+01\n",
      "  1.7000000e+01  1.6000000e+01  2.0000000e+01  1.7000000e+01\n",
      "  1.6000000e+01  2.1000000e+01  1.6000000e+01  1.7000000e+01\n",
      "  2.2000000e+01  1.6000000e+01  0.0000000e+00  0.0000000e+00\n",
      "  0.0000000e+00  0.0000000e+00  0.0000000e+00  0.0000000e+00\n",
      "  8.5882360e-01  1.1372550e-01  2.5098041e-01  8.5882360e-01\n",
      "  1.1372550e-01  2.5098041e-01  8.3137262e-01  7.2549021e-01\n",
      "  6.7058825e-01  5.0196081e-01  4.9019611e-01  5.9215689e-01\n",
      "  8.1176478e-01  8.3137262e-01  7.6862752e-01  5.0196081e-01\n",
      "  4.9019611e-01  5.9215689e-01  9.2156869e-01  8.7058830e-01\n",
      "  4.9803925e-01  0.0000000e+00  0.0000000e+00  0.0000000e+00\n",
      "  0.0000000e+00  0.0000000e+00  0.0000000e+00]\n"
     ]
    }
   ],
   "source": [
    "import matplotlib.pyplot as plt\n",
    "%matplotlib inline\n",
    "\n",
    "for index, shape in enumerate(spec.observation_shapes):\n",
    "  if len(shape) == 3:\n",
    "    print(\"Here is the first visual observation\")\n",
    "    plt.imshow(decision_steps.obs[index][0,:,:,:])\n",
    "    plt.show()\n",
    "\n",
    "for index, shape in enumerate(spec.observation_shapes):\n",
    "  if len(shape) == 1:\n",
    "    print(\"First vector observations : \", decision_steps.obs[index][0,:])"
   ]
  },
  {
   "cell_type": "code",
   "execution_count": 13,
   "metadata": {},
   "outputs": [],
   "source": [
    "env.reset()"
   ]
  },
  {
   "cell_type": "code",
   "execution_count": 14,
   "metadata": {},
   "outputs": [
    {
     "name": "stdout",
     "output_type": "stream",
     "text": [
      "Here is the first visual observation\n"
     ]
    },
    {
     "data": {
      "image/png": "[encoded data removed]",
      "text/plain": [
       "<Figure size 432x288 with 1 Axes>"
      ]
     },
     "metadata": {
      "needs_background": "light"
     },
     "output_type": "display_data"
    },
    {
     "name": "stdout",
     "output_type": "stream",
     "text": [
      "First vector observations :  [-9.8091431e+00  4.0000000e+00  1.0398216e+00  0.0000000e+00\n",
      "  2.1100000e+02  0.0000000e+00 -4.0401659e+00  1.0000000e+01\n",
      " -2.0324142e+01 -2.3502338e+01  1.3000000e+01  2.0658098e+01\n",
      "  7.5478516e+00  1.2000000e+01 -3.3518845e+01 -1.9489662e+01\n",
      "  1.4000000e+01  3.4777771e+01 -1.0046349e+01  1.0000000e+01\n",
      "  2.7131989e+01  1.1967681e+01  1.0000000e+01 -2.5083820e+01\n",
      "  1.1611433e+01  1.1000000e+01 -3.1390654e+01  0.0000000e+00\n",
      "  0.0000000e+00  0.0000000e+00  0.0000000e+00  0.0000000e+00\n",
      "  0.0000000e+00  1.6000000e+01  2.0000000e+01  1.6000000e+01\n",
      "  1.7000000e+01  2.7000000e+01  1.7000000e+01  1.6000000e+01\n",
      "  2.5000000e+01  1.7000000e+01  1.7000000e+01  2.8000000e+01\n",
      "  1.7000000e+01  1.6000000e+01  2.0000000e+01  1.7000000e+01\n",
      "  1.6000000e+01  2.1000000e+01  1.6000000e+01  1.7000000e+01\n",
      "  2.2000000e+01  1.6000000e+01  0.0000000e+00  0.0000000e+00\n",
      "  0.0000000e+00  0.0000000e+00  0.0000000e+00  0.0000000e+00\n",
      "  8.5882360e-01  1.1372550e-01  2.5098041e-01  8.5882360e-01\n",
      "  1.1372550e-01  2.5098041e-01  8.3137262e-01  7.2549021e-01\n",
      "  6.7058825e-01  5.0196081e-01  4.9019611e-01  5.9215689e-01\n",
      "  8.1176478e-01  8.3137262e-01  7.6862752e-01  5.0196081e-01\n",
      "  4.9019611e-01  5.9215689e-01  9.2156869e-01  8.7058830e-01\n",
      "  4.9803925e-01  0.0000000e+00  0.0000000e+00  0.0000000e+00\n",
      "  0.0000000e+00  0.0000000e+00  0.0000000e+00]\n"
     ]
    }
   ],
   "source": [
    "for index, shape in enumerate(spec.observation_shapes):\n",
    "  if len(shape) == 3:\n",
    "    print(\"Here is the first visual observation\")\n",
    "    plt.imshow(decision_steps.obs[index][0,:,:,:])\n",
    "    plt.show()\n",
    "\n",
    "for index, shape in enumerate(spec.observation_shapes):\n",
    "  if len(shape) == 1:\n",
    "    print(\"First vector observations : \", decision_steps.obs[index][0,:])"
   ]
  },
  {
   "cell_type": "code",
   "execution_count": 15,
   "metadata": {},
   "outputs": [],
   "source": [
    "#import numpy"
   ]
  },
  {
   "cell_type": "code",
   "execution_count": 16,
   "metadata": {},
   "outputs": [],
   "source": [
    "import numpy as np\n",
    "import random"
   ]
  },
  {
   "cell_type": "code",
   "execution_count": 17,
   "metadata": {},
   "outputs": [],
   "source": [
    "actions=[]\n",
    "for i in range(5):\n",
    "    actions.append(np.full((1, ),i+1)) "
   ]
  },
  {
   "cell_type": "code",
   "execution_count": 18,
   "metadata": {},
   "outputs": [
    {
     "data": {
      "text/plain": [
       "[array([1]), array([2]), array([3]), array([4]), array([5])]"
      ]
     },
     "execution_count": 18,
     "metadata": {},
     "output_type": "execute_result"
    }
   ],
   "source": [
    "actions"
   ]
  },
  {
   "cell_type": "code",
   "execution_count": 92,
   "metadata": {},
   "outputs": [
    {
     "data": {
      "image/png": "[encoded data removed]",
      "text/plain": [
       "<Figure size 432x288 with 1 Axes>"
      ]
     },
     "metadata": {
      "needs_background": "light"
     },
     "output_type": "display_data"
    }
   ],
   "source": [
    "for i in range(20):\n",
    "    env.set_action_for_agent(\"My Behavior?team=0\",0, random.choice(actions))\n",
    "    env.step()\n",
    "    decision_steps, terminal_steps = env.get_steps(behavior_name)\n",
    "    im=decision_steps.obs[0][0,:,:,:]\n",
    "    plt.imshow(im)\n",
    "#     plt.imsave(\"Rollouts/harsha\"+str(i+15500)+\".png\", im)\n",
    "\n",
    "env.reset()\n",
    "    "
   ]
  },
  {
   "cell_type": "markdown",
   "metadata": {},
   "source": [
    "### Define a function that can construct a TP view and put buildings as per observations\n",
    "\n",
    "#### 1. We have building positions, scales, colors\n",
    "#### 2. Get the color of the floor\n",
    "#### 3. Put the rectangles on the floor as per the observations\n"
   ]
  },
  {
   "cell_type": "code",
   "execution_count": 93,
   "metadata": {},
   "outputs": [],
   "source": [
    "obsComplete = decision_steps.obs[index][0,:]"
   ]
  },
  {
   "cell_type": "code",
   "execution_count": 83,
   "metadata": {},
   "outputs": [
    {
     "data": {
      "text/plain": [
       "(87,)"
      ]
     },
     "execution_count": 83,
     "metadata": {},
     "output_type": "execute_result"
    }
   ],
   "source": [
    "obsComplete.shape"
   ]
  },
  {
   "cell_type": "code",
   "execution_count": 67,
   "metadata": {},
   "outputs": [
    {
     "data": {
      "text/plain": [
       "numpy.ndarray"
      ]
     },
     "execution_count": 67,
     "metadata": {},
     "output_type": "execute_result"
    }
   ],
   "source": [
    "type(obsComplete)"
   ]
  },
  {
   "cell_type": "code",
   "execution_count": 68,
   "metadata": {},
   "outputs": [],
   "source": [
    "def getObservations(obsComplete):\n",
    "    #agents position\n",
    "    agentPos=np.take(obsComplete, [0,1,2])\n",
    "    #agents orientation\n",
    "    agentOrient=np.take(obsComplete,[3,4,5])\n",
    "    #buildingPos,Scale,Color\n",
    "    buildingPos=[]\n",
    "    buildingScale=[]\n",
    "    buildingColor=[]\n",
    "    #buildings position\n",
    "    for i in range(0,7):\n",
    "        buildingPos.append(np.take(obsComplete,[3*(i+2),3*(i+2)+1,3*(i+2)+2]))\n",
    "        buildingScale.append(np.take(obsComplete,[3*(i+11),3*(i+11)+1,3*(i+11)+2]))\n",
    "        buildingColor.append(np.take(obsComplete,[3*(i+20),3*(i+20)+1,3*(i+20)+2]))\n",
    "#     print(\"BuildingPos: \\n\",buildingPos,\"\\n\\n\\n\",\"buildingScale: \\n\",buildingScale,\"\\n\\n\\n\",\"buildingColor: \\n\",buildingColor,\"\\n\")\n",
    "\n",
    "    return agentPos,agentOrient,buildingPos,buildingScale,buildingColor"
   ]
  },
  {
   "cell_type": "code",
   "execution_count": 94,
   "metadata": {},
   "outputs": [],
   "source": [
    "agentPos1,agentOrient1,buildingPos1,buildingScale1,buildingColor1 = getObservations(obsComplete)"
   ]
  },
  {
   "cell_type": "markdown",
   "metadata": {},
   "source": [
    "### Now making the map\n",
    "#### 1. Use the floor color\n",
    "#### 2. Create a canvas of size 64 x 64\n",
    "#### 3. Place a rectangle with cordinates"
   ]
  },
  {
   "cell_type": "code",
   "execution_count": 70,
   "metadata": {},
   "outputs": [
    {
     "data": {
      "text/plain": [
       "<matplotlib.image.AxesImage at 0x7f971eba4d90>"
      ]
     },
     "execution_count": 70,
     "metadata": {},
     "output_type": "execute_result"
    },
    {
     "data": {
      "image/png": "[encoded data removed]",
      "text/plain": [
       "<Figure size 432x288 with 1 Axes>"
      ]
     },
     "metadata": {
      "needs_background": "light"
     },
     "output_type": "display_data"
    }
   ],
   "source": [
    "plt.imshow(im)"
   ]
  },
  {
   "cell_type": "code",
   "execution_count": 71,
   "metadata": {},
   "outputs": [
    {
     "data": {
      "text/plain": [
       "array([[1.        , 1.        , 0.96862745],\n",
       "       [1.        , 1.        , 0.96862745],\n",
       "       [1.        , 1.        , 0.9647059 ],\n",
       "       [1.        , 1.        , 0.9647059 ],\n",
       "       [1.        , 1.        , 0.9647059 ],\n",
       "       [1.        , 1.        , 0.9647059 ],\n",
       "       [1.        , 1.        , 0.9647059 ],\n",
       "       [1.        , 1.        , 0.9647059 ],\n",
       "       [1.        , 1.        , 0.9647059 ],\n",
       "       [1.        , 1.        , 0.9647059 ],\n",
       "       [1.        , 1.        , 0.9647059 ],\n",
       "       [1.        , 1.        , 0.9647059 ],\n",
       "       [1.        , 1.        , 0.9647059 ],\n",
       "       [1.        , 1.        , 0.9647059 ],\n",
       "       [1.        , 1.        , 0.9647059 ],\n",
       "       [1.        , 1.        , 0.9647059 ],\n",
       "       [1.        , 1.        , 0.9647059 ],\n",
       "       [1.        , 1.        , 0.9647059 ],\n",
       "       [1.        , 1.        , 0.9647059 ],\n",
       "       [1.        , 1.        , 0.96862745],\n",
       "       [1.        , 1.        , 0.96862745],\n",
       "       [1.        , 1.        , 0.96862745],\n",
       "       [1.        , 1.        , 0.96862745],\n",
       "       [1.        , 1.        , 0.96862745],\n",
       "       [1.        , 1.        , 0.96862745],\n",
       "       [1.        , 1.        , 0.96862745],\n",
       "       [1.        , 1.        , 0.96862745],\n",
       "       [1.        , 1.        , 0.96862745],\n",
       "       [1.        , 1.        , 0.972549  ],\n",
       "       [1.        , 1.        , 0.972549  ],\n",
       "       [1.        , 1.        , 0.972549  ],\n",
       "       [1.        , 1.        , 0.972549  ],\n",
       "       [1.        , 1.        , 0.972549  ],\n",
       "       [1.        , 1.        , 0.972549  ],\n",
       "       [1.        , 1.        , 0.972549  ],\n",
       "       [1.        , 1.        , 0.9764706 ],\n",
       "       [1.        , 1.        , 0.9764706 ],\n",
       "       [1.        , 1.        , 0.9764706 ],\n",
       "       [1.        , 1.        , 0.9764706 ],\n",
       "       [1.        , 1.        , 0.9764706 ],\n",
       "       [1.        , 1.        , 0.9764706 ],\n",
       "       [1.        , 1.        , 0.98039216],\n",
       "       [1.        , 1.        , 0.98039216],\n",
       "       [1.        , 1.        , 0.98039216],\n",
       "       [1.        , 1.        , 0.98039216],\n",
       "       [1.        , 1.        , 0.98039216],\n",
       "       [1.        , 1.        , 0.98039216],\n",
       "       [1.        , 1.        , 0.9843137 ],\n",
       "       [1.        , 1.        , 0.9843137 ],\n",
       "       [1.        , 1.        , 0.9843137 ],\n",
       "       [1.        , 1.        , 0.9843137 ],\n",
       "       [1.        , 1.        , 0.9843137 ],\n",
       "       [0.9254902 , 0.47843137, 0.25882354],\n",
       "       [0.9254902 , 0.47843137, 0.25882354],\n",
       "       [0.9254902 , 0.47843137, 0.25882354],\n",
       "       [0.9254902 , 0.47843137, 0.25882354],\n",
       "       [0.9254902 , 0.47843137, 0.25882354],\n",
       "       [0.9254902 , 0.47843137, 0.25882354],\n",
       "       [0.9254902 , 0.47843137, 0.25882354],\n",
       "       [0.9254902 , 0.47843137, 0.25882354],\n",
       "       [0.9254902 , 0.47843137, 0.25882354],\n",
       "       [0.93333334, 0.4862745 , 0.26666668],\n",
       "       [0.9490196 , 0.49803922, 0.27450982],\n",
       "       [0.972549  , 0.5137255 , 0.28627452]], dtype=float32)"
      ]
     },
     "execution_count": 71,
     "metadata": {},
     "output_type": "execute_result"
    }
   ],
   "source": [
    "im[:,60]"
   ]
  },
  {
   "cell_type": "code",
   "execution_count": 72,
   "metadata": {},
   "outputs": [
    {
     "data": {
      "text/plain": [
       "array([ 8.301248 , 10.       ,  3.7750702], dtype=float32)"
      ]
     },
     "execution_count": 72,
     "metadata": {},
     "output_type": "execute_result"
    }
   ],
   "source": [
    "buildingPos1[0]"
   ]
  },
  {
   "cell_type": "code",
   "execution_count": 73,
   "metadata": {},
   "outputs": [
    {
     "data": {
      "text/plain": [
       "array([16., 20., 16.], dtype=float32)"
      ]
     },
     "execution_count": 73,
     "metadata": {},
     "output_type": "execute_result"
    }
   ],
   "source": [
    "buildingScale1[0]"
   ]
  },
  {
   "cell_type": "code",
   "execution_count": 74,
   "metadata": {},
   "outputs": [
    {
     "data": {
      "text/plain": [
       "array([0.5019608, 0.4901961, 0.5921569], dtype=float32)"
      ]
     },
     "execution_count": 74,
     "metadata": {},
     "output_type": "execute_result"
    }
   ],
   "source": [
    "buildingColor1[0]"
   ]
  },
  {
   "cell_type": "markdown",
   "metadata": {},
   "source": [
    "## Canvas"
   ]
  },
  {
   "cell_type": "code",
   "execution_count": null,
   "metadata": {},
   "outputs": [],
   "source": [
    "[1., 0.56078434, 0.32156864]"
   ]
  },
  {
   "cell_type": "code",
   "execution_count": 95,
   "metadata": {},
   "outputs": [],
   "source": [
    "im2 = np.zeros((100,100,3))"
   ]
  },
  {
   "cell_type": "code",
   "execution_count": 96,
   "metadata": {},
   "outputs": [],
   "source": [
    "im2[:,:]=[1., 0.56078434, 0.32156864]"
   ]
  },
  {
   "cell_type": "code",
   "execution_count": 97,
   "metadata": {},
   "outputs": [
    {
     "data": {
      "text/plain": [
       "<matplotlib.image.AxesImage at 0x7f971f101050>"
      ]
     },
     "execution_count": 97,
     "metadata": {},
     "output_type": "execute_result"
    },
    {
     "data": {
      "image/png": "[encoded data removed]",
      "text/plain": [
       "<Figure size 432x288 with 1 Axes>"
      ]
     },
     "metadata": {
      "needs_background": "light"
     },
     "output_type": "display_data"
    }
   ],
   "source": [
    "plt.axis([0,100,0,100])\n",
    "plt.imshow(im2)"
   ]
  },
  {
   "cell_type": "code",
   "execution_count": 98,
   "metadata": {},
   "outputs": [],
   "source": [
    "buildCentrePos_x=[]\n",
    "buildCentrePos_z=[]\n",
    "buildWidth_x=[]\n",
    "buildHeight_z=[]\n",
    "buildingcordinate_xMax=[]\n",
    "buildingcordinate_xMin=[]\n",
    "buildingcordinate_zMax=[]\n",
    "buildingcordinate_zMin=[]\n",
    "for i in range(7):\n",
    "    #get all the x and z of the buildings centre\n",
    "    buildCentrePos_x.append(buildingPos1[i][0])\n",
    "    buildCentrePos_z.append(buildingPos1[i][1])\n",
    "    buildWidth_x.append(buildingScale1[0][0])\n",
    "    buildHeight_z.append(buildingScale1[0][1])\n",
    "    \n",
    "    \n",
    "    #get the xMax and xMin, zMax and zMin\n",
    "    buildingcordinate_xMax.append((buildCentrePos_x[i]+buildWidth_x[i]/2)+50)\n",
    "    buildingcordinate_xMin.append((buildCentrePos_x[i]-buildWidth_x[i]/2)+50)\n",
    "    buildingcordinate_zMax.append((buildCentrePos_z[i]+buildHeight_z[i]/2)+50)\n",
    "    buildingcordinate_zMin.append((buildCentrePos_z[i]-buildHeight_z[i]/2)+50)    "
   ]
  },
  {
   "cell_type": "code",
   "execution_count": 99,
   "metadata": {},
   "outputs": [
    {
     "name": "stdout",
     "output_type": "stream",
     "text": [
      "23.280544 \n",
      "\n",
      "11.0 \n",
      "\n",
      "17.0 \n",
      "\n",
      "22.0 \n",
      "\n",
      "81.78054428100586 \n",
      "\n",
      "64.78054428100586 \n",
      "\n",
      "72.0 \n",
      "\n",
      "50.0 \n",
      "\n",
      "done0th building\n",
      "\n",
      "-20.83897 \n",
      "\n",
      "14.0 \n",
      "\n",
      "17.0 \n",
      "\n",
      "22.0 \n",
      "\n",
      "37.66102981567383 \n",
      "\n",
      "20.661029815673828 \n",
      "\n",
      "75.0 \n",
      "\n",
      "53.0 \n",
      "\n",
      "done1th building\n",
      "\n"
     ]
    }
   ],
   "source": [
    "#Debug for the first 2 buildings and its measurements\n",
    "for i in range(2):\n",
    "    \n",
    "    print(buildCentrePos_x[i],\"\\n\")\n",
    "    print(buildCentrePos_z[i],\"\\n\")\n",
    "    print(buildWidth_x[i],\"\\n\")\n",
    "    print(buildHeight_z[i],\"\\n\")\n",
    "    print(buildingcordinate_xMax[i],\"\\n\")\n",
    "    print(buildingcordinate_xMin[i],\"\\n\")\n",
    "    print(buildingcordinate_zMax[i],\"\\n\")\n",
    "    print(buildingcordinate_zMin[i],\"\\n\")\n",
    "    print(\"done\"+str(i)+\"th building\\n\")"
   ]
  },
  {
   "cell_type": "code",
   "execution_count": 33,
   "metadata": {
    "collapsed": true
   },
   "outputs": [
    {
     "name": "stdout",
     "output_type": "stream",
     "text": [
      "-24.19284 11.0 16.0 22.0\n"
     ]
    }
   ],
   "source": [
    "# buildCentrePos_x=buildingPos1[0][0]\n",
    "# buildCentrePos_z=buildingPos1[0][1]\n",
    "# buildWidth_x=buildingScale1[0][0]\n",
    "# buildHeight_z=buildingScale1[0][1]\n",
    "# print(buildCentrePos_x,buildCentrePos_z,buildWidth_x,buildHeight_z)"
   ]
  },
  {
   "cell_type": "code",
   "execution_count": 34,
   "metadata": {
    "collapsed": true
   },
   "outputs": [
    {
     "name": "stdout",
     "output_type": "stream",
     "text": [
      "-16.192840576171875 -32.192840576171875 22.0 0.0\n",
      "33.807159423828125 17.807159423828125 72.0 50.0\n"
     ]
    }
   ],
   "source": [
    "# buildingcordinate_xMax=buildCentrePos_x+buildWidth_x/2\n",
    "# buildingcordinate_xMin=buildCentrePos_x-buildWidth_x/2\n",
    "# buildingcordinate_zMax=buildCentrePos_z+buildHeight_z/2\n",
    "# buildingcordinate_zMin=buildCentrePos_z-buildHeight_z/2\n",
    "\n",
    "# print(buildingcordinate_xMax, buildingcordinate_xMin, buildingcordinate_zMax, buildingcordinate_zMin)\n",
    "\n",
    "\n",
    "# #as the unity map is 100 x 100 with origin at 100 -> transforming that axis to this\n",
    "# #add 50 to all\n",
    "# buildingcordinate_xMax+=50\n",
    "# buildingcordinate_xMin+=50\n",
    "# buildingcordinate_zMax+=50\n",
    "# buildingcordinate_zMin+=50\n",
    "# print(buildingcordinate_xMax, buildingcordinate_xMin, buildingcordinate_zMax, buildingcordinate_zMin)\n"
   ]
  },
  {
   "cell_type": "code",
   "execution_count": 100,
   "metadata": {},
   "outputs": [
    {
     "data": {
      "image/png": "[encoded data removed]",
      "text/plain": [
       "<Figure size 432x288 with 1 Axes>"
      ]
     },
     "metadata": {
      "needs_background": "light"
     },
     "output_type": "display_data"
    }
   ],
   "source": [
    "import matplotlib.pyplot as plt\n",
    "import numpy as np\n",
    "import matplotlib.path as mpath\n",
    "import matplotlib.lines as mlines\n",
    "import matplotlib.patches as mpatches\n",
    "from matplotlib.collections import PatchCollection\n",
    "figure, ax = plt.subplots(1)\n",
    "\n",
    "rect=[]\n",
    "for i in range(7):\n",
    "    rect.append(mpatches.Rectangle((buildingcordinate_xMin[i],buildingcordinate_zMin[i]),buildWidth_x[i],\\\n",
    "                                   buildHeight_z[i], facecolor=buildingColor1[i]))\n",
    "    plt.axis([0,100,0,100])\n",
    "\n",
    "\n",
    "ax.imshow(im2)\n",
    "for i in range(7):\n",
    "    ax.add_patch(rect[i])"
   ]
  },
  {
   "cell_type": "code",
   "execution_count": 13,
   "metadata": {},
   "outputs": [],
   "source": [
    "env.close()"
   ]
  },
  {
   "cell_type": "code",
   "execution_count": 14,
   "metadata": {},
   "outputs": [
    {
     "data": {
      "text/plain": [
       "<pyvirtualdisplay.display.Display at 0x7fa9629cf710>"
      ]
     },
     "execution_count": 14,
     "metadata": {},
     "output_type": "execute_result"
    }
   ],
   "source": [
    "display.stop()"
   ]
  },
  {
   "cell_type": "code",
   "execution_count": null,
   "metadata": {},
   "outputs": [],
   "source": []
  },
  {
   "cell_type": "code",
   "execution_count": null,
   "metadata": {},
   "outputs": [],
   "source": []
  },
  {
   "cell_type": "code",
   "execution_count": null,
   "metadata": {},
   "outputs": [],
   "source": []
  },
  {
   "cell_type": "code",
   "execution_count": null,
   "metadata": {},
   "outputs": [],
   "source": []
  },
  {
   "cell_type": "code",
   "execution_count": null,
   "metadata": {},
   "outputs": [],
   "source": []
  },
  {
   "cell_type": "code",
   "execution_count": null,
   "metadata": {},
   "outputs": [],
   "source": []
  },
  {
   "cell_type": "code",
   "execution_count": null,
   "metadata": {},
   "outputs": [],
   "source": []
  }
 ],
 "metadata": {
  "kernelspec": {
   "display_name": "Python 3",
   "language": "python",
   "name": "python3"
  },
  "language_info": {
   "codemirror_mode": {
    "name": "ipython",
    "version": 3
   },
   "file_extension": ".py",
   "mimetype": "text/x-python",
   "name": "python",
   "nbconvert_exporter": "python",
   "pygments_lexer": "ipython3",
   "version": "3.7.7"
  }
 },
 "nbformat": 4,
 "nbformat_minor": 4
}
